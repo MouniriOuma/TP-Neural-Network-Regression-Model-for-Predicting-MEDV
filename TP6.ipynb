{
  "cells": [
    {
      "cell_type": "markdown",
      "metadata": {
        "id": "view-in-github",
        "colab_type": "text"
      },
      "source": [
        "<a href=\"https://colab.research.google.com/github/MouniriOuma/TP-Neural-Network-Regression-Model-for-Predicting-MEDV/blob/main/TP6.ipynb\" target=\"_parent\"><img src=\"https://colab.research.google.com/assets/colab-badge.svg\" alt=\"Open In Colab\"/></a>"
      ]
    },
    {
      "cell_type": "code",
      "execution_count": null,
      "id": "0e4c557d-3155-43d1-aa39-532e4fcc1479",
      "metadata": {
        "id": "0e4c557d-3155-43d1-aa39-532e4fcc1479"
      },
      "outputs": [],
      "source": [
        "import numpy as np\n",
        "import pandas as pd\n",
        "from sklearn.model_selection import train_test_split\n",
        "from sklearn.preprocessing import StandardScaler\n",
        "from sklearn.metrics import mean_squared_error, r2_score\n",
        "import matplotlib.pyplot as plt\n",
        "from keras import models, layers"
      ]
    },
    {
      "cell_type": "code",
      "execution_count": null,
      "id": "3b39da39-c7d3-4b1b-918f-d2279c0eacc7",
      "metadata": {
        "id": "3b39da39-c7d3-4b1b-918f-d2279c0eacc7",
        "outputId": "c919099b-0038-4626-9b4d-c19bd1f283f0"
      },
      "outputs": [
        {
          "name": "stdout",
          "output_type": "stream",
          "text": [
            "      CRIM    ZN  INDUS  CHAS    NOX     RM   AGE     DIS  RAD  TAX  LSTAT  \\\n",
            "0  0.00632  18.0   2.31     0  0.538  6.575  65.2  4.0900    1  296   4.98   \n",
            "1  0.02731   0.0   7.07     0  0.469  6.421  78.9  4.9671    2  242   9.14   \n",
            "2  0.02729   0.0   7.07     0  0.469  7.185  61.1  4.9671    2  242   4.03   \n",
            "3  0.03237   0.0   2.18     0  0.458  6.998  45.8  6.0622    3  222   2.94   \n",
            "4  0.06905   0.0   2.18     0  0.458  7.147  54.2  6.0622    3  222   5.33   \n",
            "\n",
            "   MEDV  \n",
            "0  24.0  \n",
            "1  21.6  \n",
            "2  34.7  \n",
            "3  33.4  \n",
            "4  36.2  \n"
          ]
        }
      ],
      "source": [
        "# Charger le dataset\n",
        "data = pd.read_csv(\"TP6_dataset.csv\")\n",
        "\n",
        "# Afficher un aperçu des données\n",
        "print(data.head())\n"
      ]
    },
    {
      "cell_type": "code",
      "execution_count": null,
      "id": "ee7e77fb-92fd-4be1-99c7-aa165dae2575",
      "metadata": {
        "id": "ee7e77fb-92fd-4be1-99c7-aa165dae2575"
      },
      "outputs": [],
      "source": [
        "# Séparer les caractéristiques (X) et la cible (y)\n",
        "X = data.drop(\"MEDV\", axis=1).values  # Variables indépendantes\n",
        "y = data[\"MEDV\"].values  # Variable dépendante"
      ]
    },
    {
      "cell_type": "code",
      "execution_count": null,
      "id": "ef052a5c-552e-475b-ba30-dc42a98c62eb",
      "metadata": {
        "id": "ef052a5c-552e-475b-ba30-dc42a98c62eb"
      },
      "outputs": [],
      "source": [
        "# Standardiser les caractéristiques\n",
        "scaler = StandardScaler()\n",
        "X = scaler.fit_transform(X)\n"
      ]
    },
    {
      "cell_type": "code",
      "execution_count": null,
      "id": "2f86d379-777d-4780-bcf7-120e9146031c",
      "metadata": {
        "id": "2f86d379-777d-4780-bcf7-120e9146031c"
      },
      "outputs": [],
      "source": [
        "# Diviser en entraînement + validation (80%) et test (20%)\n",
        "X_train, X_test, y_train, y_test = train_test_split(X, y, test_size=0.2, random_state=42)\n",
        "\n",
        "# Diviser l'ensemble d'entraînement en entraînement (70%) et validation (30%)\n",
        "X_train, X_val, y_train, y_val = train_test_split(X_train, y_train, test_size=0.3, random_state=42)"
      ]
    },
    {
      "cell_type": "code",
      "execution_count": null,
      "id": "3f284cc5-205d-4254-ab49-d4966507557d",
      "metadata": {
        "id": "3f284cc5-205d-4254-ab49-d4966507557d",
        "outputId": "7dbb65dd-578b-448d-deaf-568fd4def96c"
      },
      "outputs": [
        {
          "name": "stderr",
          "output_type": "stream",
          "text": [
            "C:\\Users\\Mouma\\anaconda3\\Lib\\site-packages\\keras\\src\\layers\\core\\dense.py:87: UserWarning: Do not pass an `input_shape`/`input_dim` argument to a layer. When using Sequential models, prefer using an `Input(shape)` object as the first layer in the model instead.\n",
            "  super().__init__(activity_regularizer=activity_regularizer, **kwargs)\n"
          ]
        }
      ],
      "source": [
        "# Définir le modèle\n",
        "model = models.Sequential([\n",
        "    layers.Dense(64, activation='relu', input_shape=(X_train.shape[1],)),\n",
        "    layers.Dense(32, activation='relu'),\n",
        "    layers.Dense(16, activation='relu'),\n",
        "    layers.Dense(1)  # Pas d'activation pour une sortie continue\n",
        "])"
      ]
    },
    {
      "cell_type": "code",
      "execution_count": null,
      "id": "b9d662e4-f9d5-431e-9e91-f86aae42fb4c",
      "metadata": {
        "id": "b9d662e4-f9d5-431e-9e91-f86aae42fb4c"
      },
      "outputs": [],
      "source": [
        "# Compiler le modèle\n",
        "model.compile(optimizer='adam',\n",
        "              loss='mse',\n",
        "              metrics=['mae'])"
      ]
    },
    {
      "cell_type": "code",
      "execution_count": null,
      "id": "46711bad-e6cf-41cc-ace7-e2bcb552a228",
      "metadata": {
        "id": "46711bad-e6cf-41cc-ace7-e2bcb552a228",
        "outputId": "bb8e2457-6ba1-45d0-fd34-99004afaf7c5"
      },
      "outputs": [
        {
          "name": "stdout",
          "output_type": "stream",
          "text": [
            "Epoch 1/100\n",
            "\u001b[1m9/9\u001b[0m \u001b[32m━━━━━━━━━━━━━━━━━━━━\u001b[0m\u001b[37m\u001b[0m \u001b[1m10s\u001b[0m 182ms/step - loss: 553.1251 - mae: 21.8064 - val_loss: 508.9363 - val_mae: 20.8325\n",
            "Epoch 2/100\n",
            "\u001b[1m9/9\u001b[0m \u001b[32m━━━━━━━━━━━━━━━━━━━━\u001b[0m\u001b[37m\u001b[0m \u001b[1m0s\u001b[0m 23ms/step - loss: 530.6409 - mae: 21.0588 - val_loss: 452.8512 - val_mae: 19.5133\n",
            "Epoch 3/100\n",
            "\u001b[1m9/9\u001b[0m \u001b[32m━━━━━━━━━━━━━━━━━━━━\u001b[0m\u001b[37m\u001b[0m \u001b[1m0s\u001b[0m 18ms/step - loss: 448.0163 - mae: 19.3504 - val_loss: 378.9532 - val_mae: 17.6382\n",
            "Epoch 4/100\n",
            "\u001b[1m9/9\u001b[0m \u001b[32m━━━━━━━━━━━━━━━━━━━━\u001b[0m\u001b[37m\u001b[0m \u001b[1m0s\u001b[0m 16ms/step - loss: 359.7219 - mae: 16.9595 - val_loss: 288.8479 - val_mae: 14.9557\n",
            "Epoch 5/100\n",
            "\u001b[1m9/9\u001b[0m \u001b[32m━━━━━━━━━━━━━━━━━━━━\u001b[0m\u001b[37m\u001b[0m \u001b[1m0s\u001b[0m 16ms/step - loss: 273.3240 - mae: 14.4064 - val_loss: 194.6305 - val_mae: 11.7307\n",
            "Epoch 6/100\n",
            "\u001b[1m9/9\u001b[0m \u001b[32m━━━━━━━━━━━━━━━━━━━━\u001b[0m\u001b[37m\u001b[0m \u001b[1m0s\u001b[0m 13ms/step - loss: 216.7404 - mae: 11.8193 - val_loss: 122.1202 - val_mae: 8.8530\n",
            "Epoch 7/100\n",
            "\u001b[1m9/9\u001b[0m \u001b[32m━━━━━━━━━━━━━━━━━━━━\u001b[0m\u001b[37m\u001b[0m \u001b[1m0s\u001b[0m 14ms/step - loss: 123.5320 - mae: 8.2927 - val_loss: 89.8440 - val_mae: 7.1756\n",
            "Epoch 8/100\n",
            "\u001b[1m9/9\u001b[0m \u001b[32m━━━━━━━━━━━━━━━━━━━━\u001b[0m\u001b[37m\u001b[0m \u001b[1m0s\u001b[0m 20ms/step - loss: 107.0207 - mae: 7.9402 - val_loss: 72.8028 - val_mae: 6.3968\n",
            "Epoch 9/100\n",
            "\u001b[1m9/9\u001b[0m \u001b[32m━━━━━━━━━━━━━━━━━━━━\u001b[0m\u001b[37m\u001b[0m \u001b[1m0s\u001b[0m 24ms/step - loss: 70.0681 - mae: 6.3861 - val_loss: 55.4618 - val_mae: 5.5202\n",
            "Epoch 10/100\n",
            "\u001b[1m9/9\u001b[0m \u001b[32m━━━━━━━━━━━━━━━━━━━━\u001b[0m\u001b[37m\u001b[0m \u001b[1m0s\u001b[0m 22ms/step - loss: 56.7836 - mae: 5.5889 - val_loss: 44.9656 - val_mae: 4.9137\n",
            "Epoch 11/100\n",
            "\u001b[1m9/9\u001b[0m \u001b[32m━━━━━━━━━━━━━━━━━━━━\u001b[0m\u001b[37m\u001b[0m \u001b[1m0s\u001b[0m 20ms/step - loss: 43.9298 - mae: 4.9651 - val_loss: 38.6246 - val_mae: 4.4750\n",
            "Epoch 12/100\n",
            "\u001b[1m9/9\u001b[0m \u001b[32m━━━━━━━━━━━━━━━━━━━━\u001b[0m\u001b[37m\u001b[0m \u001b[1m0s\u001b[0m 24ms/step - loss: 37.4215 - mae: 4.3960 - val_loss: 34.6632 - val_mae: 4.2335\n",
            "Epoch 13/100\n",
            "\u001b[1m9/9\u001b[0m \u001b[32m━━━━━━━━━━━━━━━━━━━━\u001b[0m\u001b[37m\u001b[0m \u001b[1m0s\u001b[0m 24ms/step - loss: 30.2504 - mae: 4.1426 - val_loss: 31.9075 - val_mae: 4.0553\n",
            "Epoch 14/100\n",
            "\u001b[1m9/9\u001b[0m \u001b[32m━━━━━━━━━━━━━━━━━━━━\u001b[0m\u001b[37m\u001b[0m \u001b[1m0s\u001b[0m 24ms/step - loss: 28.9843 - mae: 4.0344 - val_loss: 30.3514 - val_mae: 3.9078\n",
            "Epoch 15/100\n",
            "\u001b[1m9/9\u001b[0m \u001b[32m━━━━━━━━━━━━━━━━━━━━\u001b[0m\u001b[37m\u001b[0m \u001b[1m0s\u001b[0m 16ms/step - loss: 27.4979 - mae: 3.8627 - val_loss: 28.5482 - val_mae: 3.7906\n",
            "Epoch 16/100\n",
            "\u001b[1m9/9\u001b[0m \u001b[32m━━━━━━━━━━━━━━━━━━━━\u001b[0m\u001b[37m\u001b[0m \u001b[1m0s\u001b[0m 20ms/step - loss: 23.9250 - mae: 3.6411 - val_loss: 26.6800 - val_mae: 3.6916\n",
            "Epoch 17/100\n",
            "\u001b[1m9/9\u001b[0m \u001b[32m━━━━━━━━━━━━━━━━━━━━\u001b[0m\u001b[37m\u001b[0m \u001b[1m0s\u001b[0m 20ms/step - loss: 26.1831 - mae: 3.6389 - val_loss: 25.5037 - val_mae: 3.5876\n",
            "Epoch 18/100\n",
            "\u001b[1m9/9\u001b[0m \u001b[32m━━━━━━━━━━━━━━━━━━━━\u001b[0m\u001b[37m\u001b[0m \u001b[1m0s\u001b[0m 32ms/step - loss: 19.4973 - mae: 3.3715 - val_loss: 24.0092 - val_mae: 3.4905\n",
            "Epoch 19/100\n",
            "\u001b[1m9/9\u001b[0m \u001b[32m━━━━━━━━━━━━━━━━━━━━\u001b[0m\u001b[37m\u001b[0m \u001b[1m0s\u001b[0m 30ms/step - loss: 23.8151 - mae: 3.5282 - val_loss: 22.9995 - val_mae: 3.4102\n",
            "Epoch 20/100\n",
            "\u001b[1m9/9\u001b[0m \u001b[32m━━━━━━━━━━━━━━━━━━━━\u001b[0m\u001b[37m\u001b[0m \u001b[1m0s\u001b[0m 34ms/step - loss: 20.1114 - mae: 3.3456 - val_loss: 21.4834 - val_mae: 3.3315\n",
            "Epoch 21/100\n",
            "\u001b[1m9/9\u001b[0m \u001b[32m━━━━━━━━━━━━━━━━━━━━\u001b[0m\u001b[37m\u001b[0m \u001b[1m0s\u001b[0m 30ms/step - loss: 21.2411 - mae: 3.4337 - val_loss: 20.7098 - val_mae: 3.2658\n",
            "Epoch 22/100\n",
            "\u001b[1m9/9\u001b[0m \u001b[32m━━━━━━━━━━━━━━━━━━━━\u001b[0m\u001b[37m\u001b[0m \u001b[1m0s\u001b[0m 28ms/step - loss: 16.9433 - mae: 3.0999 - val_loss: 20.5901 - val_mae: 3.2088\n",
            "Epoch 23/100\n",
            "\u001b[1m9/9\u001b[0m \u001b[32m━━━━━━━━━━━━━━━━━━━━\u001b[0m\u001b[37m\u001b[0m \u001b[1m0s\u001b[0m 24ms/step - loss: 18.0096 - mae: 3.0790 - val_loss: 19.2879 - val_mae: 3.1394\n",
            "Epoch 24/100\n",
            "\u001b[1m9/9\u001b[0m \u001b[32m━━━━━━━━━━━━━━━━━━━━\u001b[0m\u001b[37m\u001b[0m \u001b[1m0s\u001b[0m 28ms/step - loss: 19.4384 - mae: 3.2055 - val_loss: 18.6476 - val_mae: 3.0982\n",
            "Epoch 25/100\n",
            "\u001b[1m9/9\u001b[0m \u001b[32m━━━━━━━━━━━━━━━━━━━━\u001b[0m\u001b[37m\u001b[0m \u001b[1m0s\u001b[0m 33ms/step - loss: 17.7016 - mae: 3.1008 - val_loss: 18.4681 - val_mae: 3.0705\n",
            "Epoch 26/100\n",
            "\u001b[1m9/9\u001b[0m \u001b[32m━━━━━━━━━━━━━━━━━━━━\u001b[0m\u001b[37m\u001b[0m \u001b[1m0s\u001b[0m 22ms/step - loss: 16.4212 - mae: 2.9503 - val_loss: 18.1075 - val_mae: 3.0293\n",
            "Epoch 27/100\n",
            "\u001b[1m9/9\u001b[0m \u001b[32m━━━━━━━━━━━━━━━━━━━━\u001b[0m\u001b[37m\u001b[0m \u001b[1m0s\u001b[0m 31ms/step - loss: 16.9511 - mae: 2.9270 - val_loss: 17.5119 - val_mae: 2.9898\n",
            "Epoch 28/100\n",
            "\u001b[1m9/9\u001b[0m \u001b[32m━━━━━━━━━━━━━━━━━━━━\u001b[0m\u001b[37m\u001b[0m \u001b[1m0s\u001b[0m 25ms/step - loss: 15.9811 - mae: 2.9596 - val_loss: 17.1634 - val_mae: 2.9620\n",
            "Epoch 29/100\n",
            "\u001b[1m9/9\u001b[0m \u001b[32m━━━━━━━━━━━━━━━━━━━━\u001b[0m\u001b[37m\u001b[0m \u001b[1m0s\u001b[0m 27ms/step - loss: 14.7199 - mae: 2.8525 - val_loss: 17.4390 - val_mae: 2.9422\n",
            "Epoch 30/100\n",
            "\u001b[1m9/9\u001b[0m \u001b[32m━━━━━━━━━━━━━━━━━━━━\u001b[0m\u001b[37m\u001b[0m \u001b[1m0s\u001b[0m 27ms/step - loss: 16.1507 - mae: 2.8731 - val_loss: 16.8259 - val_mae: 2.9035\n",
            "Epoch 31/100\n",
            "\u001b[1m9/9\u001b[0m \u001b[32m━━━━━━━━━━━━━━━━━━━━\u001b[0m\u001b[37m\u001b[0m \u001b[1m0s\u001b[0m 29ms/step - loss: 18.5532 - mae: 2.9691 - val_loss: 16.7884 - val_mae: 2.8894\n",
            "Epoch 32/100\n",
            "\u001b[1m9/9\u001b[0m \u001b[32m━━━━━━━━━━━━━━━━━━━━\u001b[0m\u001b[37m\u001b[0m \u001b[1m0s\u001b[0m 23ms/step - loss: 17.3354 - mae: 2.9097 - val_loss: 16.2679 - val_mae: 2.8543\n",
            "Epoch 33/100\n",
            "\u001b[1m9/9\u001b[0m \u001b[32m━━━━━━━━━━━━━━━━━━━━\u001b[0m\u001b[37m\u001b[0m \u001b[1m0s\u001b[0m 23ms/step - loss: 17.6574 - mae: 2.9311 - val_loss: 16.2117 - val_mae: 2.8403\n",
            "Epoch 34/100\n",
            "\u001b[1m9/9\u001b[0m \u001b[32m━━━━━━━━━━━━━━━━━━━━\u001b[0m\u001b[37m\u001b[0m \u001b[1m0s\u001b[0m 23ms/step - loss: 12.5463 - mae: 2.6548 - val_loss: 16.0600 - val_mae: 2.8294\n",
            "Epoch 35/100\n",
            "\u001b[1m9/9\u001b[0m \u001b[32m━━━━━━━━━━━━━━━━━━━━\u001b[0m\u001b[37m\u001b[0m \u001b[1m0s\u001b[0m 24ms/step - loss: 12.8727 - mae: 2.6702 - val_loss: 15.8186 - val_mae: 2.8321\n",
            "Epoch 36/100\n",
            "\u001b[1m9/9\u001b[0m \u001b[32m━━━━━━━━━━━━━━━━━━━━\u001b[0m\u001b[37m\u001b[0m \u001b[1m0s\u001b[0m 23ms/step - loss: 12.4061 - mae: 2.6018 - val_loss: 16.0181 - val_mae: 2.8075\n",
            "Epoch 37/100\n",
            "\u001b[1m9/9\u001b[0m \u001b[32m━━━━━━━━━━━━━━━━━━━━\u001b[0m\u001b[37m\u001b[0m \u001b[1m0s\u001b[0m 23ms/step - loss: 14.8696 - mae: 2.7301 - val_loss: 15.6898 - val_mae: 2.7970\n",
            "Epoch 38/100\n",
            "\u001b[1m9/9\u001b[0m \u001b[32m━━━━━━━━━━━━━━━━━━━━\u001b[0m\u001b[37m\u001b[0m \u001b[1m0s\u001b[0m 25ms/step - loss: 12.6953 - mae: 2.6069 - val_loss: 15.3112 - val_mae: 2.7990\n",
            "Epoch 39/100\n",
            "\u001b[1m9/9\u001b[0m \u001b[32m━━━━━━━━━━━━━━━━━━━━\u001b[0m\u001b[37m\u001b[0m \u001b[1m0s\u001b[0m 30ms/step - loss: 15.9631 - mae: 2.7474 - val_loss: 15.6702 - val_mae: 2.7936\n",
            "Epoch 40/100\n",
            "\u001b[1m9/9\u001b[0m \u001b[32m━━━━━━━━━━━━━━━━━━━━\u001b[0m\u001b[37m\u001b[0m \u001b[1m0s\u001b[0m 23ms/step - loss: 11.6987 - mae: 2.5918 - val_loss: 15.1795 - val_mae: 2.8085\n",
            "Epoch 41/100\n",
            "\u001b[1m9/9\u001b[0m \u001b[32m━━━━━━━━━━━━━━━━━━━━\u001b[0m\u001b[37m\u001b[0m \u001b[1m0s\u001b[0m 28ms/step - loss: 12.5419 - mae: 2.5684 - val_loss: 15.6812 - val_mae: 2.7972\n",
            "Epoch 42/100\n",
            "\u001b[1m9/9\u001b[0m \u001b[32m━━━━━━━━━━━━━━━━━━━━\u001b[0m\u001b[37m\u001b[0m \u001b[1m0s\u001b[0m 30ms/step - loss: 10.8415 - mae: 2.5166 - val_loss: 14.9433 - val_mae: 2.7852\n",
            "Epoch 43/100\n",
            "\u001b[1m9/9\u001b[0m \u001b[32m━━━━━━━━━━━━━━━━━━━━\u001b[0m\u001b[37m\u001b[0m \u001b[1m0s\u001b[0m 33ms/step - loss: 13.2441 - mae: 2.7086 - val_loss: 15.1427 - val_mae: 2.7672\n",
            "Epoch 44/100\n",
            "\u001b[1m9/9\u001b[0m \u001b[32m━━━━━━━━━━━━━━━━━━━━\u001b[0m\u001b[37m\u001b[0m \u001b[1m1s\u001b[0m 63ms/step - loss: 14.6266 - mae: 2.7195 - val_loss: 15.0520 - val_mae: 2.7645\n",
            "Epoch 45/100\n",
            "\u001b[1m9/9\u001b[0m \u001b[32m━━━━━━━━━━━━━━━━━━━━\u001b[0m\u001b[37m\u001b[0m \u001b[1m1s\u001b[0m 28ms/step - loss: 12.0427 - mae: 2.5590 - val_loss: 14.9153 - val_mae: 2.7650\n",
            "Epoch 46/100\n",
            "\u001b[1m9/9\u001b[0m \u001b[32m━━━━━━━━━━━━━━━━━━━━\u001b[0m\u001b[37m\u001b[0m \u001b[1m0s\u001b[0m 32ms/step - loss: 13.7980 - mae: 2.7014 - val_loss: 14.8854 - val_mae: 2.7551\n",
            "Epoch 47/100\n",
            "\u001b[1m9/9\u001b[0m \u001b[32m━━━━━━━━━━━━━━━━━━━━\u001b[0m\u001b[37m\u001b[0m \u001b[1m1s\u001b[0m 65ms/step - loss: 14.0703 - mae: 2.5977 - val_loss: 14.8626 - val_mae: 2.7498\n",
            "Epoch 48/100\n",
            "\u001b[1m9/9\u001b[0m \u001b[32m━━━━━━━━━━━━━━━━━━━━\u001b[0m\u001b[37m\u001b[0m \u001b[1m1s\u001b[0m 62ms/step - loss: 12.6208 - mae: 2.5131 - val_loss: 14.6569 - val_mae: 2.7379\n",
            "Epoch 49/100\n",
            "\u001b[1m9/9\u001b[0m \u001b[32m━━━━━━━━━━━━━━━━━━━━\u001b[0m\u001b[37m\u001b[0m \u001b[1m1s\u001b[0m 51ms/step - loss: 11.1061 - mae: 2.4215 - val_loss: 14.4784 - val_mae: 2.7337\n",
            "Epoch 50/100\n",
            "\u001b[1m9/9\u001b[0m \u001b[32m━━━━━━━━━━━━━━━━━━━━\u001b[0m\u001b[37m\u001b[0m \u001b[1m0s\u001b[0m 27ms/step - loss: 12.0046 - mae: 2.5855 - val_loss: 14.5693 - val_mae: 2.7301\n",
            "Epoch 51/100\n",
            "\u001b[1m9/9\u001b[0m \u001b[32m━━━━━━━━━━━━━━━━━━━━\u001b[0m\u001b[37m\u001b[0m \u001b[1m0s\u001b[0m 30ms/step - loss: 12.4707 - mae: 2.5083 - val_loss: 14.8043 - val_mae: 2.7436\n",
            "Epoch 52/100\n",
            "\u001b[1m9/9\u001b[0m \u001b[32m━━━━━━━━━━━━━━━━━━━━\u001b[0m\u001b[37m\u001b[0m \u001b[1m0s\u001b[0m 30ms/step - loss: 9.9311 - mae: 2.3653 - val_loss: 14.2837 - val_mae: 2.7367\n",
            "Epoch 53/100\n",
            "\u001b[1m9/9\u001b[0m \u001b[32m━━━━━━━━━━━━━━━━━━━━\u001b[0m\u001b[37m\u001b[0m \u001b[1m0s\u001b[0m 24ms/step - loss: 10.9216 - mae: 2.4122 - val_loss: 14.7471 - val_mae: 2.7430\n",
            "Epoch 54/100\n",
            "\u001b[1m9/9\u001b[0m \u001b[32m━━━━━━━━━━━━━━━━━━━━\u001b[0m\u001b[37m\u001b[0m \u001b[1m0s\u001b[0m 27ms/step - loss: 10.4569 - mae: 2.3924 - val_loss: 14.4691 - val_mae: 2.7245\n",
            "Epoch 55/100\n",
            "\u001b[1m9/9\u001b[0m \u001b[32m━━━━━━━━━━━━━━━━━━━━\u001b[0m\u001b[37m\u001b[0m \u001b[1m0s\u001b[0m 27ms/step - loss: 10.4606 - mae: 2.4131 - val_loss: 14.2331 - val_mae: 2.7131\n",
            "Epoch 56/100\n",
            "\u001b[1m9/9\u001b[0m \u001b[32m━━━━━━━━━━━━━━━━━━━━\u001b[0m\u001b[37m\u001b[0m \u001b[1m0s\u001b[0m 23ms/step - loss: 11.0909 - mae: 2.3824 - val_loss: 14.2728 - val_mae: 2.7135\n",
            "Epoch 57/100\n",
            "\u001b[1m9/9\u001b[0m \u001b[32m━━━━━━━━━━━━━━━━━━━━\u001b[0m\u001b[37m\u001b[0m \u001b[1m0s\u001b[0m 27ms/step - loss: 11.5203 - mae: 2.4220 - val_loss: 14.3424 - val_mae: 2.7161\n",
            "Epoch 58/100\n",
            "\u001b[1m9/9\u001b[0m \u001b[32m━━━━━━━━━━━━━━━━━━━━\u001b[0m\u001b[37m\u001b[0m \u001b[1m0s\u001b[0m 34ms/step - loss: 10.4840 - mae: 2.3296 - val_loss: 14.1225 - val_mae: 2.7011\n",
            "Epoch 59/100\n",
            "\u001b[1m9/9\u001b[0m \u001b[32m━━━━━━━━━━━━━━━━━━━━\u001b[0m\u001b[37m\u001b[0m \u001b[1m0s\u001b[0m 24ms/step - loss: 11.3136 - mae: 2.3474 - val_loss: 14.2893 - val_mae: 2.7162\n",
            "Epoch 60/100\n",
            "\u001b[1m9/9\u001b[0m \u001b[32m━━━━━━━━━━━━━━━━━━━━\u001b[0m\u001b[37m\u001b[0m \u001b[1m0s\u001b[0m 23ms/step - loss: 10.5846 - mae: 2.2353 - val_loss: 14.3149 - val_mae: 2.7170\n",
            "Epoch 61/100\n",
            "\u001b[1m9/9\u001b[0m \u001b[32m━━━━━━━━━━━━━━━━━━━━\u001b[0m\u001b[37m\u001b[0m \u001b[1m0s\u001b[0m 30ms/step - loss: 10.5157 - mae: 2.3260 - val_loss: 13.8721 - val_mae: 2.6941\n",
            "Epoch 62/100\n",
            "\u001b[1m9/9\u001b[0m \u001b[32m━━━━━━━━━━━━━━━━━━━━\u001b[0m\u001b[37m\u001b[0m \u001b[1m0s\u001b[0m 30ms/step - loss: 8.5729 - mae: 2.1651 - val_loss: 14.2197 - val_mae: 2.7136\n",
            "Epoch 63/100\n",
            "\u001b[1m9/9\u001b[0m \u001b[32m━━━━━━━━━━━━━━━━━━━━\u001b[0m\u001b[37m\u001b[0m \u001b[1m0s\u001b[0m 26ms/step - loss: 8.8311 - mae: 2.1235 - val_loss: 13.9804 - val_mae: 2.6917\n",
            "Epoch 64/100\n",
            "\u001b[1m9/9\u001b[0m \u001b[32m━━━━━━━━━━━━━━━━━━━━\u001b[0m\u001b[37m\u001b[0m \u001b[1m0s\u001b[0m 31ms/step - loss: 9.4868 - mae: 2.2367 - val_loss: 14.0000 - val_mae: 2.7018\n",
            "Epoch 65/100\n",
            "\u001b[1m9/9\u001b[0m \u001b[32m━━━━━━━━━━━━━━━━━━━━\u001b[0m\u001b[37m\u001b[0m \u001b[1m1s\u001b[0m 52ms/step - loss: 12.9667 - mae: 2.5341 - val_loss: 13.8238 - val_mae: 2.6785\n",
            "Epoch 66/100\n",
            "\u001b[1m9/9\u001b[0m \u001b[32m━━━━━━━━━━━━━━━━━━━━\u001b[0m\u001b[37m\u001b[0m \u001b[1m0s\u001b[0m 22ms/step - loss: 10.5897 - mae: 2.3399 - val_loss: 14.2314 - val_mae: 2.7092\n",
            "Epoch 67/100\n",
            "\u001b[1m9/9\u001b[0m \u001b[32m━━━━━━━━━━━━━━━━━━━━\u001b[0m\u001b[37m\u001b[0m \u001b[1m0s\u001b[0m 27ms/step - loss: 10.8893 - mae: 2.3217 - val_loss: 13.9653 - val_mae: 2.6887\n",
            "Epoch 68/100\n",
            "\u001b[1m9/9\u001b[0m \u001b[32m━━━━━━━━━━━━━━━━━━━━\u001b[0m\u001b[37m\u001b[0m \u001b[1m0s\u001b[0m 24ms/step - loss: 9.2840 - mae: 2.3020 - val_loss: 13.9667 - val_mae: 2.6922\n",
            "Epoch 69/100\n",
            "\u001b[1m9/9\u001b[0m \u001b[32m━━━━━━━━━━━━━━━━━━━━\u001b[0m\u001b[37m\u001b[0m \u001b[1m0s\u001b[0m 27ms/step - loss: 8.2247 - mae: 2.0637 - val_loss: 14.0220 - val_mae: 2.6934\n",
            "Epoch 70/100\n",
            "\u001b[1m9/9\u001b[0m \u001b[32m━━━━━━━━━━━━━━━━━━━━\u001b[0m\u001b[37m\u001b[0m \u001b[1m0s\u001b[0m 28ms/step - loss: 7.4915 - mae: 1.9933 - val_loss: 13.8286 - val_mae: 2.6771\n",
            "Epoch 71/100\n",
            "\u001b[1m9/9\u001b[0m \u001b[32m━━━━━━━━━━━━━━━━━━━━\u001b[0m\u001b[37m\u001b[0m \u001b[1m0s\u001b[0m 28ms/step - loss: 9.3716 - mae: 2.2067 - val_loss: 13.9087 - val_mae: 2.6804\n",
            "Epoch 72/100\n",
            "\u001b[1m9/9\u001b[0m \u001b[32m━━━━━━━━━━━━━━━━━━━━\u001b[0m\u001b[37m\u001b[0m \u001b[1m0s\u001b[0m 26ms/step - loss: 8.9397 - mae: 2.0981 - val_loss: 13.9215 - val_mae: 2.6910\n",
            "Epoch 73/100\n",
            "\u001b[1m9/9\u001b[0m \u001b[32m━━━━━━━━━━━━━━━━━━━━\u001b[0m\u001b[37m\u001b[0m \u001b[1m0s\u001b[0m 26ms/step - loss: 7.3282 - mae: 2.0083 - val_loss: 13.8108 - val_mae: 2.6758\n",
            "Epoch 74/100\n",
            "\u001b[1m9/9\u001b[0m \u001b[32m━━━━━━━━━━━━━━━━━━━━\u001b[0m\u001b[37m\u001b[0m \u001b[1m0s\u001b[0m 34ms/step - loss: 7.2841 - mae: 2.0011 - val_loss: 13.9047 - val_mae: 2.6860\n",
            "Epoch 75/100\n",
            "\u001b[1m9/9\u001b[0m \u001b[32m━━━━━━━━━━━━━━━━━━━━\u001b[0m\u001b[37m\u001b[0m \u001b[1m0s\u001b[0m 25ms/step - loss: 8.5690 - mae: 2.1136 - val_loss: 13.8166 - val_mae: 2.6777\n",
            "Epoch 76/100\n",
            "\u001b[1m9/9\u001b[0m \u001b[32m━━━━━━━━━━━━━━━━━━━━\u001b[0m\u001b[37m\u001b[0m \u001b[1m0s\u001b[0m 26ms/step - loss: 7.6110 - mae: 2.0351 - val_loss: 13.8135 - val_mae: 2.6735\n",
            "Epoch 77/100\n",
            "\u001b[1m9/9\u001b[0m \u001b[32m━━━━━━━━━━━━━━━━━━━━\u001b[0m\u001b[37m\u001b[0m \u001b[1m0s\u001b[0m 30ms/step - loss: 7.9968 - mae: 2.0592 - val_loss: 13.7615 - val_mae: 2.6742\n",
            "Epoch 78/100\n",
            "\u001b[1m9/9\u001b[0m \u001b[32m━━━━━━━━━━━━━━━━━━━━\u001b[0m\u001b[37m\u001b[0m \u001b[1m0s\u001b[0m 27ms/step - loss: 7.6071 - mae: 2.0692 - val_loss: 14.0072 - val_mae: 2.6946\n",
            "Epoch 79/100\n",
            "\u001b[1m9/9\u001b[0m \u001b[32m━━━━━━━━━━━━━━━━━━━━\u001b[0m\u001b[37m\u001b[0m \u001b[1m0s\u001b[0m 27ms/step - loss: 7.3976 - mae: 2.0038 - val_loss: 13.7450 - val_mae: 2.6733\n",
            "Epoch 80/100\n",
            "\u001b[1m9/9\u001b[0m \u001b[32m━━━━━━━━━━━━━━━━━━━━\u001b[0m\u001b[37m\u001b[0m \u001b[1m0s\u001b[0m 27ms/step - loss: 7.7804 - mae: 1.9929 - val_loss: 13.8030 - val_mae: 2.6714\n",
            "Epoch 81/100\n",
            "\u001b[1m9/9\u001b[0m \u001b[32m━━━━━━━━━━━━━━━━━━━━\u001b[0m\u001b[37m\u001b[0m \u001b[1m0s\u001b[0m 30ms/step - loss: 7.2741 - mae: 1.9747 - val_loss: 14.0495 - val_mae: 2.7000\n",
            "Epoch 82/100\n",
            "\u001b[1m9/9\u001b[0m \u001b[32m━━━━━━━━━━━━━━━━━━━━\u001b[0m\u001b[37m\u001b[0m \u001b[1m0s\u001b[0m 30ms/step - loss: 7.9981 - mae: 2.1271 - val_loss: 13.7921 - val_mae: 2.6835\n",
            "Epoch 83/100\n",
            "\u001b[1m9/9\u001b[0m \u001b[32m━━━━━━━━━━━━━━━━━━━━\u001b[0m\u001b[37m\u001b[0m \u001b[1m0s\u001b[0m 28ms/step - loss: 8.2160 - mae: 2.0973 - val_loss: 13.7902 - val_mae: 2.6706\n",
            "Epoch 84/100\n",
            "\u001b[1m9/9\u001b[0m \u001b[32m━━━━━━━━━━━━━━━━━━━━\u001b[0m\u001b[37m\u001b[0m \u001b[1m0s\u001b[0m 33ms/step - loss: 8.1059 - mae: 2.0775 - val_loss: 13.7975 - val_mae: 2.6723\n",
            "Epoch 85/100\n",
            "\u001b[1m9/9\u001b[0m \u001b[32m━━━━━━━━━━━━━━━━━━━━\u001b[0m\u001b[37m\u001b[0m \u001b[1m0s\u001b[0m 25ms/step - loss: 8.1470 - mae: 2.0205 - val_loss: 13.7356 - val_mae: 2.6677\n",
            "Epoch 86/100\n",
            "\u001b[1m9/9\u001b[0m \u001b[32m━━━━━━━━━━━━━━━━━━━━\u001b[0m\u001b[37m\u001b[0m \u001b[1m0s\u001b[0m 32ms/step - loss: 6.2786 - mae: 1.8923 - val_loss: 13.8340 - val_mae: 2.6744\n",
            "Epoch 87/100\n",
            "\u001b[1m9/9\u001b[0m \u001b[32m━━━━━━━━━━━━━━━━━━━━\u001b[0m\u001b[37m\u001b[0m \u001b[1m0s\u001b[0m 25ms/step - loss: 6.9853 - mae: 1.8653 - val_loss: 13.7916 - val_mae: 2.6811\n",
            "Epoch 88/100\n",
            "\u001b[1m9/9\u001b[0m \u001b[32m━━━━━━━━━━━━━━━━━━━━\u001b[0m\u001b[37m\u001b[0m \u001b[1m0s\u001b[0m 26ms/step - loss: 8.3267 - mae: 2.0584 - val_loss: 13.9389 - val_mae: 2.6802\n",
            "Epoch 89/100\n",
            "\u001b[1m9/9\u001b[0m \u001b[32m━━━━━━━━━━━━━━━━━━━━\u001b[0m\u001b[37m\u001b[0m \u001b[1m0s\u001b[0m 28ms/step - loss: 6.5763 - mae: 1.8868 - val_loss: 13.8304 - val_mae: 2.6778\n",
            "Epoch 90/100\n",
            "\u001b[1m9/9\u001b[0m \u001b[32m━━━━━━━━━━━━━━━━━━━━\u001b[0m\u001b[37m\u001b[0m \u001b[1m0s\u001b[0m 30ms/step - loss: 6.7647 - mae: 1.8732 - val_loss: 13.7905 - val_mae: 2.6745\n",
            "Epoch 91/100\n",
            "\u001b[1m9/9\u001b[0m \u001b[32m━━━━━━━━━━━━━━━━━━━━\u001b[0m\u001b[37m\u001b[0m \u001b[1m0s\u001b[0m 29ms/step - loss: 6.8136 - mae: 1.9397 - val_loss: 13.9190 - val_mae: 2.6778\n",
            "Epoch 92/100\n",
            "\u001b[1m9/9\u001b[0m \u001b[32m━━━━━━━━━━━━━━━━━━━━\u001b[0m\u001b[37m\u001b[0m \u001b[1m0s\u001b[0m 31ms/step - loss: 6.5980 - mae: 1.9003 - val_loss: 13.7964 - val_mae: 2.6840\n",
            "Epoch 93/100\n",
            "\u001b[1m9/9\u001b[0m \u001b[32m━━━━━━━━━━━━━━━━━━━━\u001b[0m\u001b[37m\u001b[0m \u001b[1m0s\u001b[0m 26ms/step - loss: 5.5615 - mae: 1.7320 - val_loss: 14.0354 - val_mae: 2.6899\n",
            "Epoch 94/100\n",
            "\u001b[1m9/9\u001b[0m \u001b[32m━━━━━━━━━━━━━━━━━━━━\u001b[0m\u001b[37m\u001b[0m \u001b[1m0s\u001b[0m 31ms/step - loss: 5.8751 - mae: 1.7684 - val_loss: 13.7861 - val_mae: 2.6780\n",
            "Epoch 95/100\n",
            "\u001b[1m9/9\u001b[0m \u001b[32m━━━━━━━━━━━━━━━━━━━━\u001b[0m\u001b[37m\u001b[0m \u001b[1m0s\u001b[0m 28ms/step - loss: 6.2229 - mae: 1.8573 - val_loss: 13.9189 - val_mae: 2.6822\n",
            "Epoch 96/100\n",
            "\u001b[1m9/9\u001b[0m \u001b[32m━━━━━━━━━━━━━━━━━━━━\u001b[0m\u001b[37m\u001b[0m \u001b[1m0s\u001b[0m 36ms/step - loss: 6.0371 - mae: 1.7847 - val_loss: 13.9012 - val_mae: 2.6767\n",
            "Epoch 97/100\n",
            "\u001b[1m9/9\u001b[0m \u001b[32m━━━━━━━━━━━━━━━━━━━━\u001b[0m\u001b[37m\u001b[0m \u001b[1m0s\u001b[0m 24ms/step - loss: 5.8333 - mae: 1.7431 - val_loss: 13.8229 - val_mae: 2.6707\n",
            "Epoch 98/100\n",
            "\u001b[1m9/9\u001b[0m \u001b[32m━━━━━━━━━━━━━━━━━━━━\u001b[0m\u001b[37m\u001b[0m \u001b[1m0s\u001b[0m 31ms/step - loss: 5.6755 - mae: 1.7400 - val_loss: 14.0422 - val_mae: 2.6956\n",
            "Epoch 99/100\n",
            "\u001b[1m9/9\u001b[0m \u001b[32m━━━━━━━━━━━━━━━━━━━━\u001b[0m\u001b[37m\u001b[0m \u001b[1m0s\u001b[0m 25ms/step - loss: 6.7270 - mae: 1.9229 - val_loss: 14.0650 - val_mae: 2.6952\n",
            "Epoch 100/100\n",
            "\u001b[1m9/9\u001b[0m \u001b[32m━━━━━━━━━━━━━━━━━━━━\u001b[0m\u001b[37m\u001b[0m \u001b[1m0s\u001b[0m 36ms/step - loss: 6.3424 - mae: 1.8847 - val_loss: 13.9020 - val_mae: 2.6931\n"
          ]
        }
      ],
      "source": [
        "# Entraîner le modèle\n",
        "history = model.fit(X_train, y_train,\n",
        "                    epochs=100,\n",
        "                    batch_size=32,\n",
        "                    validation_data=(X_val, y_val),\n",
        "                    verbose=1)"
      ]
    },
    {
      "cell_type": "code",
      "execution_count": null,
      "id": "d6171743-805c-4251-a3b2-64a2bcbcc25b",
      "metadata": {
        "id": "d6171743-805c-4251-a3b2-64a2bcbcc25b",
        "outputId": "c8a37a84-2254-4856-a304-f390273380bd"
      },
      "outputs": [
        {
          "name": "stdout",
          "output_type": "stream",
          "text": [
            "MAE sur les données de test : 2.32\n"
          ]
        }
      ],
      "source": [
        "# Évaluer le modèle sur les données de test\n",
        "test_loss, test_mae = model.evaluate(X_test, y_test, verbose=0)\n",
        "print(f\"MAE sur les données de test : {test_mae:.2f}\")"
      ]
    },
    {
      "cell_type": "code",
      "execution_count": null,
      "id": "6c744250-533b-45e4-af2f-a4791d0a07d9",
      "metadata": {
        "id": "6c744250-533b-45e4-af2f-a4791d0a07d9",
        "outputId": "743eb0ae-f6f4-4836-e4a7-e9f2491e8b4c"
      },
      "outputs": [
        {
          "name": "stdout",
          "output_type": "stream",
          "text": [
            "\u001b[1m4/4\u001b[0m \u001b[32m━━━━━━━━━━━━━━━━━━━━\u001b[0m\u001b[37m\u001b[0m \u001b[1m1s\u001b[0m 85ms/step\n"
          ]
        }
      ],
      "source": [
        "# Prédire les prix sur l'ensemble de test\n",
        "y_pred = model.predict(X_test).flatten()\n"
      ]
    },
    {
      "cell_type": "code",
      "execution_count": null,
      "id": "40bf4c95-2645-4cd8-ad64-391227160cb0",
      "metadata": {
        "id": "40bf4c95-2645-4cd8-ad64-391227160cb0",
        "outputId": "6a45f4e8-6e2d-443d-b64c-290af30a707a"
      },
      "outputs": [
        {
          "name": "stdout",
          "output_type": "stream",
          "text": [
            "MSE : 11.94\n",
            "R-squared : 0.84\n"
          ]
        }
      ],
      "source": [
        "# Calculer la MSE et le R-squared\n",
        "mse = mean_squared_error(y_test, y_pred)\n",
        "r2 = r2_score(y_test, y_pred)\n",
        "print(f\"MSE : {mse:.2f}\")\n",
        "print(f\"R-squared : {r2:.2f}\")\n"
      ]
    },
    {
      "cell_type": "code",
      "execution_count": null,
      "id": "f748a894-d0d8-4b15-9bdf-e63666d167c1",
      "metadata": {
        "id": "f748a894-d0d8-4b15-9bdf-e63666d167c1",
        "outputId": "2e6be9ac-11d4-468b-a400-14c4a9287f03"
      },
      "outputs": [
        {
          "data": {
            "image/png": "[encoded data removed]",
            "text/plain": [
              "<Figure size 1200x500 with 2 Axes>"
            ]
          },
          "metadata": {},
          "output_type": "display_data"
        }
      ],
      "source": [
        "# Courbe de perte (MSE)\n",
        "plt.figure(figsize=(12, 5))\n",
        "plt.subplot(1, 2, 1)\n",
        "plt.plot(history.history['loss'], label='Entraînement')\n",
        "plt.plot(history.history['val_loss'], label='Validation')\n",
        "plt.title(\"Perte (MSE)\")\n",
        "plt.xlabel(\"Époques\")\n",
        "plt.ylabel(\"Loss\")\n",
        "plt.legend()\n",
        "\n",
        "# Courbe de MAE\n",
        "plt.subplot(1, 2, 2)\n",
        "plt.plot(history.history['mae'], label='Entraînement')\n",
        "plt.plot(history.history['val_mae'], label='Validation')\n",
        "plt.title(\"Erreur Absolue Moyenne (MAE)\")\n",
        "plt.xlabel(\"Époques\")\n",
        "plt.ylabel(\"MAE\")\n",
        "plt.legend()\n",
        "plt.show()\n"
      ]
    },
    {
      "cell_type": "code",
      "execution_count": null,
      "id": "8601a6a4-d928-4998-8a89-ea9fa9f91d64",
      "metadata": {
        "id": "8601a6a4-d928-4998-8a89-ea9fa9f91d64"
      },
      "outputs": [],
      "source": []
    }
  ],
  "metadata": {
    "kernelspec": {
      "display_name": "Python 3 (ipykernel)",
      "language": "python",
      "name": "python3"
    },
    "language_info": {
      "codemirror_mode": {
        "name": "ipython",
        "version": 3
      },
      "file_extension": ".py",
      "mimetype": "text/x-python",
      "name": "python",
      "nbconvert_exporter": "python",
      "pygments_lexer": "ipython3",
      "version": "3.12.4"
    },
    "colab": {
      "provenance": [],
      "include_colab_link": true
    }
  },
  "nbformat": 4,
  "nbformat_minor": 5
}